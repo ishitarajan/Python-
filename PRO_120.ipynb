{
  "nbformat": 4,
  "nbformat_minor": 0,
  "metadata": {
    "colab": {
      "name": "PRO-120",
      "provenance": [],
      "collapsed_sections": [],
      "authorship_tag": "ABX9TyPVazxNLR3nmDZXX7tIwZ0k",
      "include_colab_link": true
    },
    "kernelspec": {
      "name": "python3",
      "display_name": "Python 3"
    },
    "language_info": {
      "name": "python"
    }
  },
  "cells": [
    {
      "cell_type": "markdown",
      "metadata": {
        "id": "view-in-github",
        "colab_type": "text"
      },
      "source": [
        "<a href=\"https://colab.research.google.com/github/ishitarajan/Python-/blob/main/PRO_120.ipynb\" target=\"_parent\"><img src=\"https://colab.research.google.com/assets/colab-badge.svg\" alt=\"Open In Colab\"/></a>"
      ]
    },
    {
      "cell_type": "code",
      "execution_count": 2,
      "metadata": {
        "colab": {
          "base_uri": "https://localhost:8080/"
        },
        "id": "TdYVQ7PdkQgN",
        "outputId": "7cd45402-e094-4558-bb2a-b50e9f169ac5"
      },
      "outputs": [
        {
          "output_type": "stream",
          "name": "stdout",
          "text": [
            "Accuracy is 0.83\n"
          ]
        }
      ],
      "source": [
        "import pandas as pd\n",
        "from sklearn.model_selection import train_test_split \n",
        "from sklearn.naive_bayes import GaussianNB \n",
        "from sklearn.metrics import accuracy_score \n",
        "from sklearn.preprocessing import StandardScaler\n",
        "\n",
        "df=pd.read_csv(\"/content/116.csv\")\n",
        "X=df[[\"Age\",\"EstimatedSalary\"]]\n",
        "Y=df[\"Purchased\"]\n",
        "\n",
        "X_train, X_test, Y_train, Y_test = train_test_split(X,Y,test_size=0.25, random_state=1)\n",
        "sc=StandardScaler()\n",
        "\n",
        "X_train = sc.fit_transform(X_train)\n",
        "X_test = sc.fit_transform(X_test)\n",
        "\n",
        "lp = GaussianNB()\n",
        "lp.fit(X_train, Y_train)\n",
        "jd=lp.predict(X_test)\n",
        "Accuracy = accuracy_score(Y_test, jd)\n",
        "print(\"Accuracy is \" + str(Accuracy))"
      ]
    }
  ]
}